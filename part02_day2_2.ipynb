{
  "nbformat": 4,
  "nbformat_minor": 0,
  "metadata": {
    "colab": {
      "name": "part02_day2_2.ipynb",
      "provenance": [],
      "authorship_tag": "ABX9TyNFUNEU2CmQ5am066Sf0Xkq",
      "include_colab_link": true
    },
    "kernelspec": {
      "name": "python3",
      "display_name": "Python 3"
    },
    "language_info": {
      "name": "python"
    }
  },
  "cells": [
    {
      "cell_type": "markdown",
      "metadata": {
        "id": "view-in-github",
        "colab_type": "text"
      },
      "source": [
        "<a href=\"https://colab.research.google.com/github/ddaddaradda/BigData_practice/blob/main/part02_day2_2.ipynb\" target=\"_parent\"><img src=\"https://colab.research.google.com/assets/colab-badge.svg\" alt=\"Open In Colab\"/></a>"
      ]
    },
    {
      "cell_type": "markdown",
      "source": [
        "## 1. 데이터 탐색하기"
      ],
      "metadata": {
        "id": "PU8PPvZV4k7p"
      }
    },
    {
      "cell_type": "code",
      "execution_count": 57,
      "metadata": {
        "id": "olwjfrgh3tpp"
      },
      "outputs": [],
      "source": [
        "import pandas as pd"
      ]
    },
    {
      "cell_type": "code",
      "source": [
        "x_test_url = 'https://raw.githubusercontent.com/7ieon/bigData/main/titanic_x_test.csv'\n",
        "x_train_url = 'https://raw.githubusercontent.com/7ieon/bigData/main/titanic_x_train.csv'\n",
        "y_train_url = 'https://raw.githubusercontent.com/7ieon/bigData/main/titanic_y_train.csv'\n",
        "\n",
        "x_test = pd.read_csv(x_test_url, encoding = 'CP949')\n",
        "x_train = pd.read_csv(x_train_url, encoding = 'CP949')\n",
        "y_train = pd.read_csv(y_train_url, encoding = 'CP949')"
      ],
      "metadata": {
        "id": "YfzFobSz3yFq"
      },
      "execution_count": 58,
      "outputs": []
    },
    {
      "cell_type": "code",
      "source": [
        "x_train.head(1)"
      ],
      "metadata": {
        "colab": {
          "base_uri": "https://localhost:8080/",
          "height": 81
        },
        "id": "jRmbSHBE4hyK",
        "outputId": "8c00988f-6eb6-4882-cd4e-dbebf6460ea4"
      },
      "execution_count": 59,
      "outputs": [
        {
          "output_type": "execute_result",
          "data": {
            "text/plain": [
              "   PassengerId  티켓등급                     승객이름    성별    나이  형제자매배우자수  부모자식수  \\\n",
              "0            1     3  Braund, Mr. Owen Harris  male  22.0         1      0   \n",
              "\n",
              "        티켓번호  운임요금 객실번호 선착장  \n",
              "0  A/5 21171  7.25  NaN   S  "
            ],
            "text/html": [
              "\n",
              "  <div id=\"df-b5dc5903-13c5-4039-8662-ea187c054c8e\">\n",
              "    <div class=\"colab-df-container\">\n",
              "      <div>\n",
              "<style scoped>\n",
              "    .dataframe tbody tr th:only-of-type {\n",
              "        vertical-align: middle;\n",
              "    }\n",
              "\n",
              "    .dataframe tbody tr th {\n",
              "        vertical-align: top;\n",
              "    }\n",
              "\n",
              "    .dataframe thead th {\n",
              "        text-align: right;\n",
              "    }\n",
              "</style>\n",
              "<table border=\"1\" class=\"dataframe\">\n",
              "  <thead>\n",
              "    <tr style=\"text-align: right;\">\n",
              "      <th></th>\n",
              "      <th>PassengerId</th>\n",
              "      <th>티켓등급</th>\n",
              "      <th>승객이름</th>\n",
              "      <th>성별</th>\n",
              "      <th>나이</th>\n",
              "      <th>형제자매배우자수</th>\n",
              "      <th>부모자식수</th>\n",
              "      <th>티켓번호</th>\n",
              "      <th>운임요금</th>\n",
              "      <th>객실번호</th>\n",
              "      <th>선착장</th>\n",
              "    </tr>\n",
              "  </thead>\n",
              "  <tbody>\n",
              "    <tr>\n",
              "      <th>0</th>\n",
              "      <td>1</td>\n",
              "      <td>3</td>\n",
              "      <td>Braund, Mr. Owen Harris</td>\n",
              "      <td>male</td>\n",
              "      <td>22.0</td>\n",
              "      <td>1</td>\n",
              "      <td>0</td>\n",
              "      <td>A/5 21171</td>\n",
              "      <td>7.25</td>\n",
              "      <td>NaN</td>\n",
              "      <td>S</td>\n",
              "    </tr>\n",
              "  </tbody>\n",
              "</table>\n",
              "</div>\n",
              "      <button class=\"colab-df-convert\" onclick=\"convertToInteractive('df-b5dc5903-13c5-4039-8662-ea187c054c8e')\"\n",
              "              title=\"Convert this dataframe to an interactive table.\"\n",
              "              style=\"display:none;\">\n",
              "        \n",
              "  <svg xmlns=\"http://www.w3.org/2000/svg\" height=\"24px\"viewBox=\"0 0 24 24\"\n",
              "       width=\"24px\">\n",
              "    <path d=\"M0 0h24v24H0V0z\" fill=\"none\"/>\n",
              "    <path d=\"M18.56 5.44l.94 2.06.94-2.06 2.06-.94-2.06-.94-.94-2.06-.94 2.06-2.06.94zm-11 1L8.5 8.5l.94-2.06 2.06-.94-2.06-.94L8.5 2.5l-.94 2.06-2.06.94zm10 10l.94 2.06.94-2.06 2.06-.94-2.06-.94-.94-2.06-.94 2.06-2.06.94z\"/><path d=\"M17.41 7.96l-1.37-1.37c-.4-.4-.92-.59-1.43-.59-.52 0-1.04.2-1.43.59L10.3 9.45l-7.72 7.72c-.78.78-.78 2.05 0 2.83L4 21.41c.39.39.9.59 1.41.59.51 0 1.02-.2 1.41-.59l7.78-7.78 2.81-2.81c.8-.78.8-2.07 0-2.86zM5.41 20L4 18.59l7.72-7.72 1.47 1.35L5.41 20z\"/>\n",
              "  </svg>\n",
              "      </button>\n",
              "      \n",
              "  <style>\n",
              "    .colab-df-container {\n",
              "      display:flex;\n",
              "      flex-wrap:wrap;\n",
              "      gap: 12px;\n",
              "    }\n",
              "\n",
              "    .colab-df-convert {\n",
              "      background-color: #E8F0FE;\n",
              "      border: none;\n",
              "      border-radius: 50%;\n",
              "      cursor: pointer;\n",
              "      display: none;\n",
              "      fill: #1967D2;\n",
              "      height: 32px;\n",
              "      padding: 0 0 0 0;\n",
              "      width: 32px;\n",
              "    }\n",
              "\n",
              "    .colab-df-convert:hover {\n",
              "      background-color: #E2EBFA;\n",
              "      box-shadow: 0px 1px 2px rgba(60, 64, 67, 0.3), 0px 1px 3px 1px rgba(60, 64, 67, 0.15);\n",
              "      fill: #174EA6;\n",
              "    }\n",
              "\n",
              "    [theme=dark] .colab-df-convert {\n",
              "      background-color: #3B4455;\n",
              "      fill: #D2E3FC;\n",
              "    }\n",
              "\n",
              "    [theme=dark] .colab-df-convert:hover {\n",
              "      background-color: #434B5C;\n",
              "      box-shadow: 0px 1px 3px 1px rgba(0, 0, 0, 0.15);\n",
              "      filter: drop-shadow(0px 1px 2px rgba(0, 0, 0, 0.3));\n",
              "      fill: #FFFFFF;\n",
              "    }\n",
              "  </style>\n",
              "\n",
              "      <script>\n",
              "        const buttonEl =\n",
              "          document.querySelector('#df-b5dc5903-13c5-4039-8662-ea187c054c8e button.colab-df-convert');\n",
              "        buttonEl.style.display =\n",
              "          google.colab.kernel.accessAllowed ? 'block' : 'none';\n",
              "\n",
              "        async function convertToInteractive(key) {\n",
              "          const element = document.querySelector('#df-b5dc5903-13c5-4039-8662-ea187c054c8e');\n",
              "          const dataTable =\n",
              "            await google.colab.kernel.invokeFunction('convertToInteractive',\n",
              "                                                     [key], {});\n",
              "          if (!dataTable) return;\n",
              "\n",
              "          const docLinkHtml = 'Like what you see? Visit the ' +\n",
              "            '<a target=\"_blank\" href=https://colab.research.google.com/notebooks/data_table.ipynb>data table notebook</a>'\n",
              "            + ' to learn more about interactive tables.';\n",
              "          element.innerHTML = '';\n",
              "          dataTable['output_type'] = 'display_data';\n",
              "          await google.colab.output.renderOutput(dataTable, element);\n",
              "          const docLink = document.createElement('div');\n",
              "          docLink.innerHTML = docLinkHtml;\n",
              "          element.appendChild(docLink);\n",
              "        }\n",
              "      </script>\n",
              "    </div>\n",
              "  </div>\n",
              "  "
            ]
          },
          "metadata": {},
          "execution_count": 59
        }
      ]
    },
    {
      "cell_type": "code",
      "source": [
        "y_train"
      ],
      "metadata": {
        "colab": {
          "base_uri": "https://localhost:8080/",
          "height": 424
        },
        "id": "XanP_jdQ5DTX",
        "outputId": "daab9b7c-2c90-406b-f2df-468bb4cec69b"
      },
      "execution_count": 60,
      "outputs": [
        {
          "output_type": "execute_result",
          "data": {
            "text/plain": [
              "     癤풮assengerId  Survived\n",
              "0               1         0\n",
              "1               2         1\n",
              "2               3         1\n",
              "3               4         1\n",
              "4               5         0\n",
              "..            ...       ...\n",
              "886           887         0\n",
              "887           888         1\n",
              "888           889         0\n",
              "889           890         1\n",
              "890           891         0\n",
              "\n",
              "[891 rows x 2 columns]"
            ],
            "text/html": [
              "\n",
              "  <div id=\"df-87d73a16-df66-4700-8be3-96c3caf8c7ed\">\n",
              "    <div class=\"colab-df-container\">\n",
              "      <div>\n",
              "<style scoped>\n",
              "    .dataframe tbody tr th:only-of-type {\n",
              "        vertical-align: middle;\n",
              "    }\n",
              "\n",
              "    .dataframe tbody tr th {\n",
              "        vertical-align: top;\n",
              "    }\n",
              "\n",
              "    .dataframe thead th {\n",
              "        text-align: right;\n",
              "    }\n",
              "</style>\n",
              "<table border=\"1\" class=\"dataframe\">\n",
              "  <thead>\n",
              "    <tr style=\"text-align: right;\">\n",
              "      <th></th>\n",
              "      <th>癤풮assengerId</th>\n",
              "      <th>Survived</th>\n",
              "    </tr>\n",
              "  </thead>\n",
              "  <tbody>\n",
              "    <tr>\n",
              "      <th>0</th>\n",
              "      <td>1</td>\n",
              "      <td>0</td>\n",
              "    </tr>\n",
              "    <tr>\n",
              "      <th>1</th>\n",
              "      <td>2</td>\n",
              "      <td>1</td>\n",
              "    </tr>\n",
              "    <tr>\n",
              "      <th>2</th>\n",
              "      <td>3</td>\n",
              "      <td>1</td>\n",
              "    </tr>\n",
              "    <tr>\n",
              "      <th>3</th>\n",
              "      <td>4</td>\n",
              "      <td>1</td>\n",
              "    </tr>\n",
              "    <tr>\n",
              "      <th>4</th>\n",
              "      <td>5</td>\n",
              "      <td>0</td>\n",
              "    </tr>\n",
              "    <tr>\n",
              "      <th>...</th>\n",
              "      <td>...</td>\n",
              "      <td>...</td>\n",
              "    </tr>\n",
              "    <tr>\n",
              "      <th>886</th>\n",
              "      <td>887</td>\n",
              "      <td>0</td>\n",
              "    </tr>\n",
              "    <tr>\n",
              "      <th>887</th>\n",
              "      <td>888</td>\n",
              "      <td>1</td>\n",
              "    </tr>\n",
              "    <tr>\n",
              "      <th>888</th>\n",
              "      <td>889</td>\n",
              "      <td>0</td>\n",
              "    </tr>\n",
              "    <tr>\n",
              "      <th>889</th>\n",
              "      <td>890</td>\n",
              "      <td>1</td>\n",
              "    </tr>\n",
              "    <tr>\n",
              "      <th>890</th>\n",
              "      <td>891</td>\n",
              "      <td>0</td>\n",
              "    </tr>\n",
              "  </tbody>\n",
              "</table>\n",
              "<p>891 rows × 2 columns</p>\n",
              "</div>\n",
              "      <button class=\"colab-df-convert\" onclick=\"convertToInteractive('df-87d73a16-df66-4700-8be3-96c3caf8c7ed')\"\n",
              "              title=\"Convert this dataframe to an interactive table.\"\n",
              "              style=\"display:none;\">\n",
              "        \n",
              "  <svg xmlns=\"http://www.w3.org/2000/svg\" height=\"24px\"viewBox=\"0 0 24 24\"\n",
              "       width=\"24px\">\n",
              "    <path d=\"M0 0h24v24H0V0z\" fill=\"none\"/>\n",
              "    <path d=\"M18.56 5.44l.94 2.06.94-2.06 2.06-.94-2.06-.94-.94-2.06-.94 2.06-2.06.94zm-11 1L8.5 8.5l.94-2.06 2.06-.94-2.06-.94L8.5 2.5l-.94 2.06-2.06.94zm10 10l.94 2.06.94-2.06 2.06-.94-2.06-.94-.94-2.06-.94 2.06-2.06.94z\"/><path d=\"M17.41 7.96l-1.37-1.37c-.4-.4-.92-.59-1.43-.59-.52 0-1.04.2-1.43.59L10.3 9.45l-7.72 7.72c-.78.78-.78 2.05 0 2.83L4 21.41c.39.39.9.59 1.41.59.51 0 1.02-.2 1.41-.59l7.78-7.78 2.81-2.81c.8-.78.8-2.07 0-2.86zM5.41 20L4 18.59l7.72-7.72 1.47 1.35L5.41 20z\"/>\n",
              "  </svg>\n",
              "      </button>\n",
              "      \n",
              "  <style>\n",
              "    .colab-df-container {\n",
              "      display:flex;\n",
              "      flex-wrap:wrap;\n",
              "      gap: 12px;\n",
              "    }\n",
              "\n",
              "    .colab-df-convert {\n",
              "      background-color: #E8F0FE;\n",
              "      border: none;\n",
              "      border-radius: 50%;\n",
              "      cursor: pointer;\n",
              "      display: none;\n",
              "      fill: #1967D2;\n",
              "      height: 32px;\n",
              "      padding: 0 0 0 0;\n",
              "      width: 32px;\n",
              "    }\n",
              "\n",
              "    .colab-df-convert:hover {\n",
              "      background-color: #E2EBFA;\n",
              "      box-shadow: 0px 1px 2px rgba(60, 64, 67, 0.3), 0px 1px 3px 1px rgba(60, 64, 67, 0.15);\n",
              "      fill: #174EA6;\n",
              "    }\n",
              "\n",
              "    [theme=dark] .colab-df-convert {\n",
              "      background-color: #3B4455;\n",
              "      fill: #D2E3FC;\n",
              "    }\n",
              "\n",
              "    [theme=dark] .colab-df-convert:hover {\n",
              "      background-color: #434B5C;\n",
              "      box-shadow: 0px 1px 3px 1px rgba(0, 0, 0, 0.15);\n",
              "      filter: drop-shadow(0px 1px 2px rgba(0, 0, 0, 0.3));\n",
              "      fill: #FFFFFF;\n",
              "    }\n",
              "  </style>\n",
              "\n",
              "      <script>\n",
              "        const buttonEl =\n",
              "          document.querySelector('#df-87d73a16-df66-4700-8be3-96c3caf8c7ed button.colab-df-convert');\n",
              "        buttonEl.style.display =\n",
              "          google.colab.kernel.accessAllowed ? 'block' : 'none';\n",
              "\n",
              "        async function convertToInteractive(key) {\n",
              "          const element = document.querySelector('#df-87d73a16-df66-4700-8be3-96c3caf8c7ed');\n",
              "          const dataTable =\n",
              "            await google.colab.kernel.invokeFunction('convertToInteractive',\n",
              "                                                     [key], {});\n",
              "          if (!dataTable) return;\n",
              "\n",
              "          const docLinkHtml = 'Like what you see? Visit the ' +\n",
              "            '<a target=\"_blank\" href=https://colab.research.google.com/notebooks/data_table.ipynb>data table notebook</a>'\n",
              "            + ' to learn more about interactive tables.';\n",
              "          element.innerHTML = '';\n",
              "          dataTable['output_type'] = 'display_data';\n",
              "          await google.colab.output.renderOutput(dataTable, element);\n",
              "          const docLink = document.createElement('div');\n",
              "          docLink.innerHTML = docLinkHtml;\n",
              "          element.appendChild(docLink);\n",
              "        }\n",
              "      </script>\n",
              "    </div>\n",
              "  </div>\n",
              "  "
            ]
          },
          "metadata": {},
          "execution_count": 60
        }
      ]
    },
    {
      "cell_type": "code",
      "source": [
        " y_train.columns = ['PassengerId',\t'Survived']"
      ],
      "metadata": {
        "id": "T4hm5-Lu5q5X"
      },
      "execution_count": 61,
      "outputs": []
    },
    {
      "cell_type": "code",
      "source": [
        "y_train"
      ],
      "metadata": {
        "colab": {
          "base_uri": "https://localhost:8080/",
          "height": 424
        },
        "id": "YZLuISyI7kV-",
        "outputId": "eaaa7968-0d85-4c88-a1f9-811c2fdf4e38"
      },
      "execution_count": 62,
      "outputs": [
        {
          "output_type": "execute_result",
          "data": {
            "text/plain": [
              "     PassengerId  Survived\n",
              "0              1         0\n",
              "1              2         1\n",
              "2              3         1\n",
              "3              4         1\n",
              "4              5         0\n",
              "..           ...       ...\n",
              "886          887         0\n",
              "887          888         1\n",
              "888          889         0\n",
              "889          890         1\n",
              "890          891         0\n",
              "\n",
              "[891 rows x 2 columns]"
            ],
            "text/html": [
              "\n",
              "  <div id=\"df-9bf08a9c-b813-4c54-9779-a30d369c9828\">\n",
              "    <div class=\"colab-df-container\">\n",
              "      <div>\n",
              "<style scoped>\n",
              "    .dataframe tbody tr th:only-of-type {\n",
              "        vertical-align: middle;\n",
              "    }\n",
              "\n",
              "    .dataframe tbody tr th {\n",
              "        vertical-align: top;\n",
              "    }\n",
              "\n",
              "    .dataframe thead th {\n",
              "        text-align: right;\n",
              "    }\n",
              "</style>\n",
              "<table border=\"1\" class=\"dataframe\">\n",
              "  <thead>\n",
              "    <tr style=\"text-align: right;\">\n",
              "      <th></th>\n",
              "      <th>PassengerId</th>\n",
              "      <th>Survived</th>\n",
              "    </tr>\n",
              "  </thead>\n",
              "  <tbody>\n",
              "    <tr>\n",
              "      <th>0</th>\n",
              "      <td>1</td>\n",
              "      <td>0</td>\n",
              "    </tr>\n",
              "    <tr>\n",
              "      <th>1</th>\n",
              "      <td>2</td>\n",
              "      <td>1</td>\n",
              "    </tr>\n",
              "    <tr>\n",
              "      <th>2</th>\n",
              "      <td>3</td>\n",
              "      <td>1</td>\n",
              "    </tr>\n",
              "    <tr>\n",
              "      <th>3</th>\n",
              "      <td>4</td>\n",
              "      <td>1</td>\n",
              "    </tr>\n",
              "    <tr>\n",
              "      <th>4</th>\n",
              "      <td>5</td>\n",
              "      <td>0</td>\n",
              "    </tr>\n",
              "    <tr>\n",
              "      <th>...</th>\n",
              "      <td>...</td>\n",
              "      <td>...</td>\n",
              "    </tr>\n",
              "    <tr>\n",
              "      <th>886</th>\n",
              "      <td>887</td>\n",
              "      <td>0</td>\n",
              "    </tr>\n",
              "    <tr>\n",
              "      <th>887</th>\n",
              "      <td>888</td>\n",
              "      <td>1</td>\n",
              "    </tr>\n",
              "    <tr>\n",
              "      <th>888</th>\n",
              "      <td>889</td>\n",
              "      <td>0</td>\n",
              "    </tr>\n",
              "    <tr>\n",
              "      <th>889</th>\n",
              "      <td>890</td>\n",
              "      <td>1</td>\n",
              "    </tr>\n",
              "    <tr>\n",
              "      <th>890</th>\n",
              "      <td>891</td>\n",
              "      <td>0</td>\n",
              "    </tr>\n",
              "  </tbody>\n",
              "</table>\n",
              "<p>891 rows × 2 columns</p>\n",
              "</div>\n",
              "      <button class=\"colab-df-convert\" onclick=\"convertToInteractive('df-9bf08a9c-b813-4c54-9779-a30d369c9828')\"\n",
              "              title=\"Convert this dataframe to an interactive table.\"\n",
              "              style=\"display:none;\">\n",
              "        \n",
              "  <svg xmlns=\"http://www.w3.org/2000/svg\" height=\"24px\"viewBox=\"0 0 24 24\"\n",
              "       width=\"24px\">\n",
              "    <path d=\"M0 0h24v24H0V0z\" fill=\"none\"/>\n",
              "    <path d=\"M18.56 5.44l.94 2.06.94-2.06 2.06-.94-2.06-.94-.94-2.06-.94 2.06-2.06.94zm-11 1L8.5 8.5l.94-2.06 2.06-.94-2.06-.94L8.5 2.5l-.94 2.06-2.06.94zm10 10l.94 2.06.94-2.06 2.06-.94-2.06-.94-.94-2.06-.94 2.06-2.06.94z\"/><path d=\"M17.41 7.96l-1.37-1.37c-.4-.4-.92-.59-1.43-.59-.52 0-1.04.2-1.43.59L10.3 9.45l-7.72 7.72c-.78.78-.78 2.05 0 2.83L4 21.41c.39.39.9.59 1.41.59.51 0 1.02-.2 1.41-.59l7.78-7.78 2.81-2.81c.8-.78.8-2.07 0-2.86zM5.41 20L4 18.59l7.72-7.72 1.47 1.35L5.41 20z\"/>\n",
              "  </svg>\n",
              "      </button>\n",
              "      \n",
              "  <style>\n",
              "    .colab-df-container {\n",
              "      display:flex;\n",
              "      flex-wrap:wrap;\n",
              "      gap: 12px;\n",
              "    }\n",
              "\n",
              "    .colab-df-convert {\n",
              "      background-color: #E8F0FE;\n",
              "      border: none;\n",
              "      border-radius: 50%;\n",
              "      cursor: pointer;\n",
              "      display: none;\n",
              "      fill: #1967D2;\n",
              "      height: 32px;\n",
              "      padding: 0 0 0 0;\n",
              "      width: 32px;\n",
              "    }\n",
              "\n",
              "    .colab-df-convert:hover {\n",
              "      background-color: #E2EBFA;\n",
              "      box-shadow: 0px 1px 2px rgba(60, 64, 67, 0.3), 0px 1px 3px 1px rgba(60, 64, 67, 0.15);\n",
              "      fill: #174EA6;\n",
              "    }\n",
              "\n",
              "    [theme=dark] .colab-df-convert {\n",
              "      background-color: #3B4455;\n",
              "      fill: #D2E3FC;\n",
              "    }\n",
              "\n",
              "    [theme=dark] .colab-df-convert:hover {\n",
              "      background-color: #434B5C;\n",
              "      box-shadow: 0px 1px 3px 1px rgba(0, 0, 0, 0.15);\n",
              "      filter: drop-shadow(0px 1px 2px rgba(0, 0, 0, 0.3));\n",
              "      fill: #FFFFFF;\n",
              "    }\n",
              "  </style>\n",
              "\n",
              "      <script>\n",
              "        const buttonEl =\n",
              "          document.querySelector('#df-9bf08a9c-b813-4c54-9779-a30d369c9828 button.colab-df-convert');\n",
              "        buttonEl.style.display =\n",
              "          google.colab.kernel.accessAllowed ? 'block' : 'none';\n",
              "\n",
              "        async function convertToInteractive(key) {\n",
              "          const element = document.querySelector('#df-9bf08a9c-b813-4c54-9779-a30d369c9828');\n",
              "          const dataTable =\n",
              "            await google.colab.kernel.invokeFunction('convertToInteractive',\n",
              "                                                     [key], {});\n",
              "          if (!dataTable) return;\n",
              "\n",
              "          const docLinkHtml = 'Like what you see? Visit the ' +\n",
              "            '<a target=\"_blank\" href=https://colab.research.google.com/notebooks/data_table.ipynb>data table notebook</a>'\n",
              "            + ' to learn more about interactive tables.';\n",
              "          element.innerHTML = '';\n",
              "          dataTable['output_type'] = 'display_data';\n",
              "          await google.colab.output.renderOutput(dataTable, element);\n",
              "          const docLink = document.createElement('div');\n",
              "          docLink.innerHTML = docLinkHtml;\n",
              "          element.appendChild(docLink);\n",
              "        }\n",
              "      </script>\n",
              "    </div>\n",
              "  </div>\n",
              "  "
            ]
          },
          "metadata": {},
          "execution_count": 62
        }
      ]
    },
    {
      "cell_type": "code",
      "source": [
        "# 각 데이터 세트의 행과 열의 개수 확인하기\n",
        "print(x_train.shape)\n",
        "print(y_train.shape)\n",
        "print(x_test.shape)"
      ],
      "metadata": {
        "colab": {
          "base_uri": "https://localhost:8080/"
        },
        "id": "b3bX0SWq7_Bh",
        "outputId": "c244477a-c7db-45f4-b26c-67c39ff0587f"
      },
      "execution_count": 63,
      "outputs": [
        {
          "output_type": "stream",
          "name": "stdout",
          "text": [
            "(891, 11)\n",
            "(891, 2)\n",
            "(418, 11)\n"
          ]
        }
      ]
    },
    {
      "cell_type": "code",
      "source": [
        "x_train.info()"
      ],
      "metadata": {
        "colab": {
          "base_uri": "https://localhost:8080/"
        },
        "id": "S8rn_2lU8MlG",
        "outputId": "fefaea00-91fd-4081-dd43-b70b87f14686"
      },
      "execution_count": 64,
      "outputs": [
        {
          "output_type": "stream",
          "name": "stdout",
          "text": [
            "<class 'pandas.core.frame.DataFrame'>\n",
            "RangeIndex: 891 entries, 0 to 890\n",
            "Data columns (total 11 columns):\n",
            " #   Column       Non-Null Count  Dtype  \n",
            "---  ------       --------------  -----  \n",
            " 0   PassengerId  891 non-null    int64  \n",
            " 1   티켓등급         891 non-null    int64  \n",
            " 2   승객이름         891 non-null    object \n",
            " 3   성별           891 non-null    object \n",
            " 4   나이           714 non-null    float64\n",
            " 5   형제자매배우자수     891 non-null    int64  \n",
            " 6   부모자식수        891 non-null    int64  \n",
            " 7   티켓번호         891 non-null    object \n",
            " 8   운임요금         891 non-null    float64\n",
            " 9   객실번호         204 non-null    object \n",
            " 10  선착장          889 non-null    object \n",
            "dtypes: float64(2), int64(4), object(5)\n",
            "memory usage: 76.7+ KB\n"
          ]
        }
      ]
    },
    {
      "cell_type": "code",
      "source": [
        "data = pd.concat([x_train,y_train], axis = 1)"
      ],
      "metadata": {
        "id": "B05k_p1R8Q7v"
      },
      "execution_count": 65,
      "outputs": []
    },
    {
      "cell_type": "code",
      "source": [
        "print(data.groupby(['성별'])['Survived'].mean())"
      ],
      "metadata": {
        "colab": {
          "base_uri": "https://localhost:8080/"
        },
        "id": "hMiRHUzl8dU2",
        "outputId": "71dcf702-d923-4109-8c02-c9aada97f457"
      },
      "execution_count": 66,
      "outputs": [
        {
          "output_type": "stream",
          "name": "stdout",
          "text": [
            "성별\n",
            "female    0.742038\n",
            "male      0.188908\n",
            "Name: Survived, dtype: float64\n"
          ]
        }
      ]
    },
    {
      "cell_type": "code",
      "source": [
        "print(data.groupby(['티켓등급'])['Survived'].mean())"
      ],
      "metadata": {
        "colab": {
          "base_uri": "https://localhost:8080/"
        },
        "id": "AacomaIi8ron",
        "outputId": "a72e7326-f0b2-4aee-f271-4e041abaa1ae"
      },
      "execution_count": 67,
      "outputs": [
        {
          "output_type": "stream",
          "name": "stdout",
          "text": [
            "티켓등급\n",
            "1    0.629630\n",
            "2    0.472826\n",
            "3    0.242363\n",
            "Name: Survived, dtype: float64\n"
          ]
        }
      ]
    },
    {
      "cell_type": "code",
      "source": [
        "print(data.groupby(['선착장'])['Survived'].mean())"
      ],
      "metadata": {
        "colab": {
          "base_uri": "https://localhost:8080/"
        },
        "id": "UHpc6ugd8wAD",
        "outputId": "817826ca-96df-4c6c-f4a3-2dabe0d0a7c8"
      },
      "execution_count": 68,
      "outputs": [
        {
          "output_type": "stream",
          "name": "stdout",
          "text": [
            "선착장\n",
            "C    0.553571\n",
            "Q    0.389610\n",
            "S    0.336957\n",
            "Name: Survived, dtype: float64\n"
          ]
        }
      ]
    },
    {
      "cell_type": "markdown",
      "source": [
        "## 2. 전처리하기"
      ],
      "metadata": {
        "id": "m0FCy7UW81fa"
      }
    },
    {
      "cell_type": "code",
      "source": [
        "# 태스트 데이터의 PassengerId 값은 x_test_passenger_id 변수에 저장\n",
        "x_test_passenger_id = x_test['PassengerId']"
      ],
      "metadata": {
        "id": "GYWrV7AK8ypa"
      },
      "execution_count": 69,
      "outputs": []
    },
    {
      "cell_type": "code",
      "source": [
        "# PassengerId 칼럼 삭제\n",
        "x_train = x_train.drop(columns = ['PassengerId'])\n",
        "x_test = x_test.drop(columns = ['PassengerId'])\n",
        "y_train = y_train.drop(columns = ['PassengerId'])\n",
        "\n",
        "# 학습 데이터와 테스트 데이터에서 '티켓번호'칼럼 삭제\n",
        "x_train = x_train.drop(columns = ['티켓번호'])\n",
        "x_test = x_test.drop(columns = ['티켓번호'])\n",
        "\n",
        "# 학습 데이터와 테스트 데이터에서 '승객이름'칼럼 삭제\n",
        "x_train = x_train.drop(columns = ['승객이름'])\n",
        "x_test = x_test.drop(columns = ['승객이름'])"
      ],
      "metadata": {
        "id": "qUQi7mc39Kh0"
      },
      "execution_count": 72,
      "outputs": []
    },
    {
      "cell_type": "code",
      "source": [
        "# 나이, 객실번호, 선착장 칼럼의 중복제외한 값 개수 세기\n",
        "print(x_train['나이'].isnull().sum())\n",
        "print(x_train['객실번호'].isnull().sum())\n",
        "print(x_train['선착장'].isnull().sum())"
      ],
      "metadata": {
        "colab": {
          "base_uri": "https://localhost:8080/"
        },
        "id": "UYdF09MC9eJQ",
        "outputId": "6c12035c-9693-4196-cd0a-ca04fb77e269"
      },
      "execution_count": 77,
      "outputs": [
        {
          "output_type": "stream",
          "name": "stdout",
          "text": [
            "177\n",
            "687\n",
            "2\n"
          ]
        }
      ]
    },
    {
      "cell_type": "code",
      "source": [
        "# '나이'와 'Survived'칼럼 간의 상관관계를 확인하기\n",
        "print(data[['나이','Survived']].corr())"
      ],
      "metadata": {
        "colab": {
          "base_uri": "https://localhost:8080/"
        },
        "id": "853Z_bnoXKZZ",
        "outputId": "16aff069-65a4-4c88-95cb-fb96037e852b"
      },
      "execution_count": 79,
      "outputs": [
        {
          "output_type": "stream",
          "name": "stdout",
          "text": [
            "                나이  Survived\n",
            "나이        1.000000 -0.077221\n",
            "Survived -0.077221  1.000000\n"
          ]
        }
      ]
    },
    {
      "cell_type": "code",
      "source": [
        "# '나이'칼럼 삭제\n",
        "x_train = x_train.drop(columns = ['나이'])\n",
        "x_test = x_test.drop(columns = ['나이'])"
      ],
      "metadata": {
        "id": "Q3vK6PPnXop9"
      },
      "execution_count": 80,
      "outputs": []
    },
    {
      "cell_type": "code",
      "source": [
        "# x_train의 '객실번호'값에서 중복을 제외한 값의 개수 세기\n",
        "print(x_train['객실번호'].unique().size)"
      ],
      "metadata": {
        "colab": {
          "base_uri": "https://localhost:8080/"
        },
        "id": "ti0Fve4rX-p-",
        "outputId": "af5aa9cc-c93d-4f93-cd7e-095e7b75c829"
      },
      "execution_count": 83,
      "outputs": [
        {
          "output_type": "stream",
          "name": "stdout",
          "text": [
            "148\n"
          ]
        }
      ]
    },
    {
      "cell_type": "code",
      "source": [
        "# 객실번호 칼럼 삭제\n",
        "x_train = x_train.drop(columns = ['객실번호'])\n",
        "x_test = x_test.drop(columns = ['객실번호'])"
      ],
      "metadata": {
        "id": "kJYtFQdcYPkZ"
      },
      "execution_count": 84,
      "outputs": []
    },
    {
      "cell_type": "code",
      "source": [
        "# 선착장 칼럼별로 값의 개수를 세기\n",
        "print(x_train.groupby(['선착장'])['선착장'].count())"
      ],
      "metadata": {
        "colab": {
          "base_uri": "https://localhost:8080/"
        },
        "id": "14P_QZaKYYPo",
        "outputId": "c567a794-7590-4fd3-e5c5-04b9cc040ec3"
      },
      "execution_count": 85,
      "outputs": [
        {
          "output_type": "stream",
          "name": "stdout",
          "text": [
            "선착장\n",
            "C    168\n",
            "Q     77\n",
            "S    644\n",
            "Name: 선착장, dtype: int64\n"
          ]
        }
      ]
    },
    {
      "cell_type": "code",
      "source": [
        "# x_train의 선착장 칼럼 결측치 S값으로 적용\n",
        "x_train['선착장'] = x_train['선착장'].fillna('S') \n",
        "\n",
        "print(x_train['선착장'].isnull().sum())"
      ],
      "metadata": {
        "colab": {
          "base_uri": "https://localhost:8080/"
        },
        "id": "78HmSS6JYnBB",
        "outputId": "9d25d140-b06b-4ccc-bd11-638cd655480f"
      },
      "execution_count": 86,
      "outputs": [
        {
          "output_type": "stream",
          "name": "stdout",
          "text": [
            "0\n"
          ]
        }
      ]
    },
    {
      "cell_type": "code",
      "source": [
        "# x_test의 선착장 칼럼에 결측치가 있는지 다시 확인\n",
        "print(x_test['선착장'].isnull().sum())"
      ],
      "metadata": {
        "colab": {
          "base_uri": "https://localhost:8080/"
        },
        "id": "EacrXGFjZA0h",
        "outputId": "def3dd42-e3ed-4475-8847-d0ce830f8506"
      },
      "execution_count": 87,
      "outputs": [
        {
          "output_type": "stream",
          "name": "stdout",
          "text": [
            "0\n"
          ]
        }
      ]
    },
    {
      "cell_type": "code",
      "source": [
        "# 성별 인코딩\n",
        "x_train['성별']  = x_train['성별'].replace('male',0).replace('female',1)\n",
        "x_test['성별']  = x_test['성별'].replace('male',0).replace('female',1)"
      ],
      "metadata": {
        "id": "0wnUqckEZKno"
      },
      "execution_count": 92,
      "outputs": []
    },
    {
      "cell_type": "code",
      "source": [
        "# x_train의 선착장 칼럼에 대한 원핫 인코딩을 수행한 후 선착장_dummy에 저장하기\n",
        "선착장_dummy = pd.get_dummies(x_train['선착장'], drop_first= True).rename(columns = {'Q':'선착장Q','S':'선착장S'})\n",
        "\n",
        "# 기존 x_train의 우측에 선착장_dummy 변수를 덧붙이기\n",
        "x_train = pd.concat([x_train,선착장_dummy], axis = 1)"
      ],
      "metadata": {
        "id": "ZvHij46bZZZx"
      },
      "execution_count": 93,
      "outputs": []
    },
    {
      "cell_type": "code",
      "source": [
        "x_train.head()"
      ],
      "metadata": {
        "colab": {
          "base_uri": "https://localhost:8080/",
          "height": 206
        },
        "id": "axcipiKkaqAh",
        "outputId": "d7bc34a5-7d53-4a11-a292-2915e5463b3f"
      },
      "execution_count": 94,
      "outputs": [
        {
          "output_type": "execute_result",
          "data": {
            "text/plain": [
              "   티켓등급  성별  형제자매배우자수  부모자식수     운임요금 선착장  선착장Q  선착장S\n",
              "0     3   0         1      0   7.2500   S     0     1\n",
              "1     1   1         1      0  71.2833   C     0     0\n",
              "2     3   1         0      0   7.9250   S     0     1\n",
              "3     1   1         1      0  53.1000   S     0     1\n",
              "4     3   0         0      0   8.0500   S     0     1"
            ],
            "text/html": [
              "\n",
              "  <div id=\"df-dd8da511-8f9a-48aa-83f1-bac875bf87bf\">\n",
              "    <div class=\"colab-df-container\">\n",
              "      <div>\n",
              "<style scoped>\n",
              "    .dataframe tbody tr th:only-of-type {\n",
              "        vertical-align: middle;\n",
              "    }\n",
              "\n",
              "    .dataframe tbody tr th {\n",
              "        vertical-align: top;\n",
              "    }\n",
              "\n",
              "    .dataframe thead th {\n",
              "        text-align: right;\n",
              "    }\n",
              "</style>\n",
              "<table border=\"1\" class=\"dataframe\">\n",
              "  <thead>\n",
              "    <tr style=\"text-align: right;\">\n",
              "      <th></th>\n",
              "      <th>티켓등급</th>\n",
              "      <th>성별</th>\n",
              "      <th>형제자매배우자수</th>\n",
              "      <th>부모자식수</th>\n",
              "      <th>운임요금</th>\n",
              "      <th>선착장</th>\n",
              "      <th>선착장Q</th>\n",
              "      <th>선착장S</th>\n",
              "    </tr>\n",
              "  </thead>\n",
              "  <tbody>\n",
              "    <tr>\n",
              "      <th>0</th>\n",
              "      <td>3</td>\n",
              "      <td>0</td>\n",
              "      <td>1</td>\n",
              "      <td>0</td>\n",
              "      <td>7.2500</td>\n",
              "      <td>S</td>\n",
              "      <td>0</td>\n",
              "      <td>1</td>\n",
              "    </tr>\n",
              "    <tr>\n",
              "      <th>1</th>\n",
              "      <td>1</td>\n",
              "      <td>1</td>\n",
              "      <td>1</td>\n",
              "      <td>0</td>\n",
              "      <td>71.2833</td>\n",
              "      <td>C</td>\n",
              "      <td>0</td>\n",
              "      <td>0</td>\n",
              "    </tr>\n",
              "    <tr>\n",
              "      <th>2</th>\n",
              "      <td>3</td>\n",
              "      <td>1</td>\n",
              "      <td>0</td>\n",
              "      <td>0</td>\n",
              "      <td>7.9250</td>\n",
              "      <td>S</td>\n",
              "      <td>0</td>\n",
              "      <td>1</td>\n",
              "    </tr>\n",
              "    <tr>\n",
              "      <th>3</th>\n",
              "      <td>1</td>\n",
              "      <td>1</td>\n",
              "      <td>1</td>\n",
              "      <td>0</td>\n",
              "      <td>53.1000</td>\n",
              "      <td>S</td>\n",
              "      <td>0</td>\n",
              "      <td>1</td>\n",
              "    </tr>\n",
              "    <tr>\n",
              "      <th>4</th>\n",
              "      <td>3</td>\n",
              "      <td>0</td>\n",
              "      <td>0</td>\n",
              "      <td>0</td>\n",
              "      <td>8.0500</td>\n",
              "      <td>S</td>\n",
              "      <td>0</td>\n",
              "      <td>1</td>\n",
              "    </tr>\n",
              "  </tbody>\n",
              "</table>\n",
              "</div>\n",
              "      <button class=\"colab-df-convert\" onclick=\"convertToInteractive('df-dd8da511-8f9a-48aa-83f1-bac875bf87bf')\"\n",
              "              title=\"Convert this dataframe to an interactive table.\"\n",
              "              style=\"display:none;\">\n",
              "        \n",
              "  <svg xmlns=\"http://www.w3.org/2000/svg\" height=\"24px\"viewBox=\"0 0 24 24\"\n",
              "       width=\"24px\">\n",
              "    <path d=\"M0 0h24v24H0V0z\" fill=\"none\"/>\n",
              "    <path d=\"M18.56 5.44l.94 2.06.94-2.06 2.06-.94-2.06-.94-.94-2.06-.94 2.06-2.06.94zm-11 1L8.5 8.5l.94-2.06 2.06-.94-2.06-.94L8.5 2.5l-.94 2.06-2.06.94zm10 10l.94 2.06.94-2.06 2.06-.94-2.06-.94-.94-2.06-.94 2.06-2.06.94z\"/><path d=\"M17.41 7.96l-1.37-1.37c-.4-.4-.92-.59-1.43-.59-.52 0-1.04.2-1.43.59L10.3 9.45l-7.72 7.72c-.78.78-.78 2.05 0 2.83L4 21.41c.39.39.9.59 1.41.59.51 0 1.02-.2 1.41-.59l7.78-7.78 2.81-2.81c.8-.78.8-2.07 0-2.86zM5.41 20L4 18.59l7.72-7.72 1.47 1.35L5.41 20z\"/>\n",
              "  </svg>\n",
              "      </button>\n",
              "      \n",
              "  <style>\n",
              "    .colab-df-container {\n",
              "      display:flex;\n",
              "      flex-wrap:wrap;\n",
              "      gap: 12px;\n",
              "    }\n",
              "\n",
              "    .colab-df-convert {\n",
              "      background-color: #E8F0FE;\n",
              "      border: none;\n",
              "      border-radius: 50%;\n",
              "      cursor: pointer;\n",
              "      display: none;\n",
              "      fill: #1967D2;\n",
              "      height: 32px;\n",
              "      padding: 0 0 0 0;\n",
              "      width: 32px;\n",
              "    }\n",
              "\n",
              "    .colab-df-convert:hover {\n",
              "      background-color: #E2EBFA;\n",
              "      box-shadow: 0px 1px 2px rgba(60, 64, 67, 0.3), 0px 1px 3px 1px rgba(60, 64, 67, 0.15);\n",
              "      fill: #174EA6;\n",
              "    }\n",
              "\n",
              "    [theme=dark] .colab-df-convert {\n",
              "      background-color: #3B4455;\n",
              "      fill: #D2E3FC;\n",
              "    }\n",
              "\n",
              "    [theme=dark] .colab-df-convert:hover {\n",
              "      background-color: #434B5C;\n",
              "      box-shadow: 0px 1px 3px 1px rgba(0, 0, 0, 0.15);\n",
              "      filter: drop-shadow(0px 1px 2px rgba(0, 0, 0, 0.3));\n",
              "      fill: #FFFFFF;\n",
              "    }\n",
              "  </style>\n",
              "\n",
              "      <script>\n",
              "        const buttonEl =\n",
              "          document.querySelector('#df-dd8da511-8f9a-48aa-83f1-bac875bf87bf button.colab-df-convert');\n",
              "        buttonEl.style.display =\n",
              "          google.colab.kernel.accessAllowed ? 'block' : 'none';\n",
              "\n",
              "        async function convertToInteractive(key) {\n",
              "          const element = document.querySelector('#df-dd8da511-8f9a-48aa-83f1-bac875bf87bf');\n",
              "          const dataTable =\n",
              "            await google.colab.kernel.invokeFunction('convertToInteractive',\n",
              "                                                     [key], {});\n",
              "          if (!dataTable) return;\n",
              "\n",
              "          const docLinkHtml = 'Like what you see? Visit the ' +\n",
              "            '<a target=\"_blank\" href=https://colab.research.google.com/notebooks/data_table.ipynb>data table notebook</a>'\n",
              "            + ' to learn more about interactive tables.';\n",
              "          element.innerHTML = '';\n",
              "          dataTable['output_type'] = 'display_data';\n",
              "          await google.colab.output.renderOutput(dataTable, element);\n",
              "          const docLink = document.createElement('div');\n",
              "          docLink.innerHTML = docLinkHtml;\n",
              "          element.appendChild(docLink);\n",
              "        }\n",
              "      </script>\n",
              "    </div>\n",
              "  </div>\n",
              "  "
            ]
          },
          "metadata": {},
          "execution_count": 94
        }
      ]
    },
    {
      "cell_type": "code",
      "source": [
        "# 학습 데이터에서 선착장 칼럼 삭제하기\n",
        "x_train = x_train.drop(columns = ['선착장'])"
      ],
      "metadata": {
        "id": "2ae1dsRZaynK"
      },
      "execution_count": 96,
      "outputs": []
    },
    {
      "cell_type": "code",
      "source": [
        "# x_test 선착장 칼럼에 대한 원핫 인코딩을 수행한 후 선착장_dummy에 저장하기\n",
        "선착장_dummy = pd.get_dummies(x_test['선착장'], drop_first= True).rename(columns = {'Q':'선착장Q','S':'선착장S'})\n",
        "\n",
        "# 기존 x_test 우측에 선착장_dummy 변수를 덧붙이기\n",
        "x_test = pd.concat([x_test,선착장_dummy], axis = 1)\n",
        "\n",
        "x_test = x_test.drop(columns = ['선착장'])"
      ],
      "metadata": {
        "id": "ho1bKjHBbECD"
      },
      "execution_count": 97,
      "outputs": []
    },
    {
      "cell_type": "code",
      "source": [
        "# 형제자매배우자수 와 부모자식수 칼럼을 더하여 가족수 라는 컬럼 만들기\n",
        "x_train['가족수'] = x_train['형제자매배우자수'] + x_train['부모자식수']\n",
        "x_train = x_train.drop(columns = ['형제자매배우자수','부모자식수']) \n",
        "\n",
        "x_test['가족수'] = x_test['형제자매배우자수'] + x_test['부모자식수']\n",
        "x_test = x_test.drop(columns = ['형제자매배우자수','부모자식수']) "
      ],
      "metadata": {
        "id": "iRW1fpEebaFK"
      },
      "execution_count": 98,
      "outputs": []
    },
    {
      "cell_type": "markdown",
      "source": [
        "## 3. 학습하고 평가하기"
      ],
      "metadata": {
        "id": "bglJdQ5Lb9JJ"
      }
    },
    {
      "cell_type": "code",
      "source": [
        "from sklearn.model_selection import train_test_split\n",
        "X_TRAIN, X_TEST, Y_TRAIN, Y_TEST = train_test_split(x_train,y_train, test_size = 0.2, random_state = 10)\n",
        "\n",
        "print(X_TRAIN.shape)\n",
        "print(X_TEST.shape)\n",
        "print(Y_TRAIN.shape)\n",
        "print(Y_TEST.shape)"
      ],
      "metadata": {
        "colab": {
          "base_uri": "https://localhost:8080/"
        },
        "id": "shyRpaFccAXk",
        "outputId": "b57de5b1-653a-48a3-d868-790930bfac54"
      },
      "execution_count": 100,
      "outputs": [
        {
          "output_type": "stream",
          "name": "stdout",
          "text": [
            "(712, 6)\n",
            "(179, 6)\n",
            "(712, 1)\n",
            "(179, 1)\n"
          ]
        }
      ]
    },
    {
      "cell_type": "code",
      "source": [
        "from xgboost import XGBClassifier"
      ],
      "metadata": {
        "id": "W_F5qFYtcnNd"
      },
      "execution_count": 106,
      "outputs": []
    },
    {
      "cell_type": "code",
      "source": [
        "model = XGBClassifier(eval_metric = 'error', random_state = 10)\n",
        "model.fit(X_TRAIN, Y_TRAIN)"
      ],
      "metadata": {
        "colab": {
          "base_uri": "https://localhost:8080/"
        },
        "id": "fdN-SrbPczZR",
        "outputId": "e1124a0e-5fa2-4654-c0db-0870bb4d91b1"
      },
      "execution_count": 108,
      "outputs": [
        {
          "output_type": "stream",
          "name": "stderr",
          "text": [
            "/usr/local/lib/python3.7/dist-packages/sklearn/preprocessing/_label.py:98: DataConversionWarning: A column-vector y was passed when a 1d array was expected. Please change the shape of y to (n_samples, ), for example using ravel().\n",
            "  y = column_or_1d(y, warn=True)\n",
            "/usr/local/lib/python3.7/dist-packages/sklearn/preprocessing/_label.py:133: DataConversionWarning: A column-vector y was passed when a 1d array was expected. Please change the shape of y to (n_samples, ), for example using ravel().\n",
            "  y = column_or_1d(y, warn=True)\n"
          ]
        },
        {
          "output_type": "execute_result",
          "data": {
            "text/plain": [
              "XGBClassifier(eval_metric='error', random_state=10)"
            ]
          },
          "metadata": {},
          "execution_count": 108
        }
      ]
    },
    {
      "cell_type": "code",
      "source": [
        "model = XGBClassifier(n_estimators = 100, max_depth = 5, eval_metric = 'error', random_state = 10)\n",
        "model.fit(X_TRAIN, Y_TRAIN)"
      ],
      "metadata": {
        "colab": {
          "base_uri": "https://localhost:8080/"
        },
        "id": "PWX1BI8-c1th",
        "outputId": "c04fd6e2-853c-4c10-bed7-d7b955b96bf6"
      },
      "execution_count": 109,
      "outputs": [
        {
          "output_type": "stream",
          "name": "stderr",
          "text": [
            "/usr/local/lib/python3.7/dist-packages/sklearn/preprocessing/_label.py:98: DataConversionWarning: A column-vector y was passed when a 1d array was expected. Please change the shape of y to (n_samples, ), for example using ravel().\n",
            "  y = column_or_1d(y, warn=True)\n",
            "/usr/local/lib/python3.7/dist-packages/sklearn/preprocessing/_label.py:133: DataConversionWarning: A column-vector y was passed when a 1d array was expected. Please change the shape of y to (n_samples, ), for example using ravel().\n",
            "  y = column_or_1d(y, warn=True)\n"
          ]
        },
        {
          "output_type": "execute_result",
          "data": {
            "text/plain": [
              "XGBClassifier(eval_metric='error', max_depth=5, random_state=10)"
            ]
          },
          "metadata": {},
          "execution_count": 109
        }
      ]
    },
    {
      "cell_type": "code",
      "source": [
        "# 학습이 완료된 모델을 통해 y_test 값을 예측하기 : 최종 결과 제출용\n",
        "y_test_predicted = pd.DataFrame(model.predict(x_test)).rename(columns = {0:'Survived'})\n",
        "\n",
        "# y_test_predicted 값 확인하기\n",
        "print(pd.DataFrame(y_test_predicted).head(10))"
      ],
      "metadata": {
        "colab": {
          "base_uri": "https://localhost:8080/"
        },
        "id": "5aMQNrFFc6CS",
        "outputId": "be6c4a4f-cf36-4a74-f226-57cf464dfe27"
      },
      "execution_count": 110,
      "outputs": [
        {
          "output_type": "stream",
          "name": "stdout",
          "text": [
            "   Survived\n",
            "0         0\n",
            "1         0\n",
            "2         0\n",
            "3         0\n",
            "4         1\n",
            "5         0\n",
            "6         1\n",
            "7         0\n",
            "8         1\n",
            "9         0\n"
          ]
        }
      ]
    },
    {
      "cell_type": "code",
      "source": [
        "# 학습이 완료된 모델을 통해 Y_TEST값을 예측하기 : 평가지표 계산용\n",
        "Y_TEST_PREDICTED = pd.DataFrame(model.predict(X_TEST))"
      ],
      "metadata": {
        "id": "3QysbeZ4lJXO"
      },
      "execution_count": 111,
      "outputs": []
    },
    {
      "cell_type": "code",
      "source": [
        "from sklearn.metrics import roc_auc_score"
      ],
      "metadata": {
        "id": "LvyDzRyqljd9"
      },
      "execution_count": 112,
      "outputs": []
    },
    {
      "cell_type": "code",
      "source": [
        "print(roc_auc_score(Y_TEST, Y_TEST_PREDICTED))"
      ],
      "metadata": {
        "colab": {
          "base_uri": "https://localhost:8080/"
        },
        "id": "G51xuoTLlsUR",
        "outputId": "0816aeff-801d-4769-f720-227e172537ff"
      },
      "execution_count": 113,
      "outputs": [
        {
          "output_type": "stream",
          "name": "stdout",
          "text": [
            "0.7950096498483595\n"
          ]
        }
      ]
    },
    {
      "cell_type": "markdown",
      "source": [
        "## 4. 결과 제출하기"
      ],
      "metadata": {
        "id": "BRpk4EDKmK0g"
      }
    },
    {
      "cell_type": "code",
      "source": [
        "# x_test_passenger_id 변수와 y_test_predicted 변수를 세로 방향으로 붙이기\n",
        "print(pd.concat([x_test_passenger_id,y_test_predicted], axis = 1))"
      ],
      "metadata": {
        "colab": {
          "base_uri": "https://localhost:8080/"
        },
        "id": "MMkFqT1cl0LI",
        "outputId": "edb7265c-f3f1-4a4a-98b1-e1bfbdae3078"
      },
      "execution_count": 114,
      "outputs": [
        {
          "output_type": "stream",
          "name": "stdout",
          "text": [
            "     PassengerId  Survived\n",
            "0            892         0\n",
            "1            893         0\n",
            "2            894         0\n",
            "3            895         0\n",
            "4            896         1\n",
            "..           ...       ...\n",
            "413         1305         0\n",
            "414         1306         1\n",
            "415         1307         0\n",
            "416         1308         0\n",
            "417         1309         1\n",
            "\n",
            "[418 rows x 2 columns]\n"
          ]
        }
      ]
    },
    {
      "cell_type": "code",
      "source": [
        "final = pd.concat([x_test_passenger_id,y_test_predicted], axis = 1)\n",
        "\n",
        "final.to_csv('12345.csv', index = False)"
      ],
      "metadata": {
        "id": "jKMa4_Rvmh7K"
      },
      "execution_count": 115,
      "outputs": []
    },
    {
      "cell_type": "markdown",
      "source": [
        "## 한 번에"
      ],
      "metadata": {
        "id": "Oc0lUnhzm1PM"
      }
    },
    {
      "cell_type": "code",
      "source": [
        "# 데이터 가져오기\n",
        "x_test_url = 'https://raw.githubusercontent.com/7ieon/bigData/main/titanic_x_test.csv'\n",
        "x_train_url = 'https://raw.githubusercontent.com/7ieon/bigData/main/titanic_x_train.csv'\n",
        "y_train_url = 'https://raw.githubusercontent.com/7ieon/bigData/main/titanic_y_train.csv'\n",
        "\n",
        "x_test = pd.read_csv(x_test_url, encoding = 'CP949')\n",
        "x_train = pd.read_csv(x_train_url, encoding = 'CP949')\n",
        "y_train = pd.read_csv(y_train_url, encoding = 'utf-8')\n",
        "\n",
        "# 전처리하기\n",
        "x_test_passenger_id = x_test['PassengerId']\n",
        "x_train = x_train.drop(columns = ['PassengerId'])\n",
        "y_train = y_train.drop(columns = ['PassengerId'])\n",
        "x_test = x_test.drop(columns = ['PassengerId'])\n",
        "\n",
        "x_train = x_train.drop(columns = ['티켓번호'])\n",
        "x_test = x_test.drop(columns = ['티켓번호'])\n",
        "\n",
        "x_train = x_train.drop(columns = ['승객이름'])\n",
        "x_test = x_test.drop(columns = ['승객이름'])\n",
        "\n",
        "x_train = x_train.drop(columns = ['나이'])\n",
        "x_test = x_test.drop(columns = ['나이'])\n",
        "\n",
        "x_train = x_train.drop(columns = ['객실번호'])\n",
        "x_test = x_test.drop(columns = ['객실번호'])\n",
        "\n",
        "# 결측치 처리하기\n",
        "x_train['선착장'] = x_train['선착장'].fillna('S')\n",
        "x_test['선착장'] = x_test['선착장'].fillna('S')\n",
        "\n",
        "# 인코딩 수행하기\n",
        "x_train['성별'] = x_train['성별'].replace('male', 0).replace('female', 1)\n",
        "x_test['성별'] = x_test['성별'].replace('male', 0).replace('female', 1)\n",
        "선착장_dummy = pd.get_dummies(x_train['선착장'], drop_first = True).rename(columns = {'Q':'선착장Q','S':'선착장S'})\n",
        "\n",
        "x_train = pd.concat([x_train,선착장_dummy], axis = 1)\n",
        "x_train = x_train.drop(columns = ['선착장'])\n",
        "\n",
        "선착장_dummy = pd.get_dummies(x_test['선착장'], drop_first = True).rename(columns = {'Q':'선착장Q','S':'선착장S'})\n",
        "\n",
        "x_test = pd.concat([x_test,선착장_dummy], axis = 1)\n",
        "x_test = x_test.drop(columns = ['선착장'])\n",
        "\n",
        "# 파생변수 만들기\n",
        "x_train['가족수'] =  x_train['형제자매배우자수'] + x_train['부모자식수']\n",
        "x_train = x_train.drop(columns = ['형제자매배우자수', '부모자식수'])\n",
        "x_test['가족수'] =  x_test['형제자매배우자수'] + x_test['부모자식수']\n",
        "x_test = x_test.drop(columns = ['형제자매배우자수', '부모자식수'])\n",
        "\n",
        "# 데이터 분리하기 \n",
        "from sklearn.model_selection import train_test_split\n",
        "X_TRAIN, X_TEST, Y_TRAIN, Y_TEST = train_test_split(x_train,y_train, test_size = 0.2, random_state = 10)\n",
        "\n",
        "# 모델 학습하기\n",
        "from xgboost import XGBClassifier\n",
        "model = XGBClassifier(n_estimators=100, max_depth=5, eval_metric= 'error')\n",
        "model.fit(X_TRAIN, Y_TRAIN)\n",
        "\n",
        "# 최종결과를 파일로 저장하기\n",
        "y_test_predicted = pd.DataFrame(model.predict(x_test)).rename(columns = {0:'Survived'})\n",
        "\n",
        "final = pd.concat([x_test_passenger_id, y_test_predicted], axis = 1)\n",
        "final.to_csv('12345.csv', index = False)"
      ],
      "metadata": {
        "colab": {
          "base_uri": "https://localhost:8080/"
        },
        "id": "1XNXRjn2m0nC",
        "outputId": "b3c67ffe-bd66-4fb6-9852-492867fa5ad8"
      },
      "execution_count": 122,
      "outputs": [
        {
          "output_type": "stream",
          "name": "stderr",
          "text": [
            "/usr/local/lib/python3.7/dist-packages/sklearn/preprocessing/_label.py:98: DataConversionWarning: A column-vector y was passed when a 1d array was expected. Please change the shape of y to (n_samples, ), for example using ravel().\n",
            "  y = column_or_1d(y, warn=True)\n",
            "/usr/local/lib/python3.7/dist-packages/sklearn/preprocessing/_label.py:133: DataConversionWarning: A column-vector y was passed when a 1d array was expected. Please change the shape of y to (n_samples, ), for example using ravel().\n",
            "  y = column_or_1d(y, warn=True)\n"
          ]
        }
      ]
    }
  ]
}